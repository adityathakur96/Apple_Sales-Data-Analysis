{
 "cells": [
  {
   "cell_type": "code",
   "execution_count": 0,
   "metadata": {
    "application/vnd.databricks.v1+cell": {
     "cellMetadata": {
      "byteLimit": 2048000,
      "rowLimit": 10000
     },
     "inputWidgets": {},
     "nuid": "ebdcf70e-bb9c-4c49-b86e-91994eef537c",
     "showTitle": false,
     "tableResultSettingsMap": {},
     "title": ""
    }
   },
   "outputs": [],
   "source": [
    "class DataSink:\n",
    "    \"\"\"\n",
    "    Abstract class \n",
    "    \"\"\"\n",
    "    def __init__(self, df, path, method, params):\n",
    "        self.df = df\n",
    "        self.path = path\n",
    "        self.method = method\n",
    "        self.params = params\n",
    "    def load_data_frame(self):\n",
    "        # abstract method, functions will be defined in the sub classes \n",
    "\n",
    "        raise ValueError(\"Not Implemented\")\n",
    "\n",
    "class LoadToDBFS(DataSink):\n",
    "\n",
    "    def load_data_frame(self):\n",
    "\n",
    "        self.df.write.mode(self.method).save(self.path)\n",
    "\n",
    "class LoadToDBFSWithPartition(DataSink):\n",
    "\n",
    "    def load_data_frame(self):\n",
    "\n",
    "        partitionByColumns = self.params.get(\"partitionByColumns\")\n",
    "        self.df.write.mode(self.method).partitionBy(*partitionByColumns).save(self.path)\n",
    "         \n",
    "class LoadToDeltaTable(DataSink):\n",
    "\n",
    "    def load_data_frame(self):\n",
    "\n",
    "        self.df.write.format(\"delta\").mode(self.method).saveAsTable(self.path)        \n",
    "\n",
    "def get_sink_source(sink_type,df,path,method,params = None):\n",
    "    if sink_type == \"dbfs\":\n",
    "        return LoadToDBFS(df,path,method,params)\n",
    "    elif sink_type == \"dbfs_with_partition\":\n",
    "        return LoadToDBFS(df,path,method,params)\n",
    "    elif sink_type == \"delta\":\n",
    "        return  LoadToDeltaTable(df,path,method,params)\n",
    "    else : \n",
    "        return ValueError(f\"Not Implemented for the data_type :{data_type}\")\n"
   ]
  }
 ],
 "metadata": {
  "application/vnd.databricks.v1+notebook": {
   "computePreferences": null,
   "dashboards": [],
   "environmentMetadata": {
    "base_environment": "",
    "client": "1"
   },
   "language": "python",
   "notebookMetadata": {
    "pythonIndentUnit": 4
   },
   "notebookName": "Loader_Factory",
   "widgets": {}
  },
  "language_info": {
   "name": "python"
  }
 },
 "nbformat": 4,
 "nbformat_minor": 0
}
