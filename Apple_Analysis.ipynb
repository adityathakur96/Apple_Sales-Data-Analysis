{
 "cells": [
  {
   "cell_type": "code",
   "execution_count": 0,
   "metadata": {
    "application/vnd.databricks.v1+cell": {
     "cellMetadata": {
      "byteLimit": 2048000,
      "rowLimit": 10000
     },
     "inputWidgets": {},
     "nuid": "5eff189e-a780-40bf-b99a-94bcff1f6b70",
     "showTitle": false,
     "tableResultSettingsMap": {},
     "title": ""
    }
   },
   "outputs": [],
   "source": [
    "%run \"./reader_factory\""
   ]
  },
  {
   "cell_type": "code",
   "execution_count": 0,
   "metadata": {
    "application/vnd.databricks.v1+cell": {
     "cellMetadata": {
      "byteLimit": 2048000,
      "rowLimit": 10000
     },
     "inputWidgets": {},
     "nuid": "49dfffd5-c6db-4b80-bb83-d5ecf3058aa2",
     "showTitle": false,
     "tableResultSettingsMap": {},
     "title": ""
    }
   },
   "outputs": [],
   "source": [
    "%run \"./Transformer_Notebook\""
   ]
  },
  {
   "cell_type": "code",
   "execution_count": 0,
   "metadata": {
    "application/vnd.databricks.v1+cell": {
     "cellMetadata": {
      "byteLimit": 2048000,
      "rowLimit": 10000
     },
     "inputWidgets": {},
     "nuid": "c9e67925-2682-4533-96c8-5d2e7f9a5ffd",
     "showTitle": false,
     "tableResultSettingsMap": {},
     "title": ""
    }
   },
   "outputs": [],
   "source": [
    "%run \"./Extractor_Notebook\""
   ]
  },
  {
   "cell_type": "code",
   "execution_count": 0,
   "metadata": {
    "application/vnd.databricks.v1+cell": {
     "cellMetadata": {
      "byteLimit": 2048000,
      "rowLimit": 10000
     },
     "inputWidgets": {},
     "nuid": "0347a6cc-8488-42d9-abd7-3f8f2025c9f8",
     "showTitle": false,
     "tableResultSettingsMap": {},
     "title": ""
    }
   },
   "outputs": [],
   "source": [
    "%run \"./Loader_Notebook\""
   ]
  },
  {
   "cell_type": "code",
   "execution_count": 0,
   "metadata": {
    "application/vnd.databricks.v1+cell": {
     "cellMetadata": {
      "byteLimit": 2048000,
      "rowLimit": 10000
     },
     "inputWidgets": {},
     "nuid": "c8b33336-aada-4b15-916f-bca5035d83a3",
     "showTitle": false,
     "tableResultSettingsMap": {},
     "title": ""
    }
   },
   "outputs": [
    {
     "name": "stdout",
     "output_type": "stream",
     "text": [
      "+--------------+-----------+------------+----------------+\n",
      "|transaction_id|customer_id|product_name|transaction_date|\n",
      "+--------------+-----------+------------+----------------+\n",
      "|            11|        105|      iPhone|      2022-02-01|\n",
      "|            12|        106|      iPhone|      2022-02-02|\n",
      "|            13|        107|     AirPods|      2022-02-03|\n",
      "|            14|        105|     AirPods|      2022-02-04|\n",
      "|            15|        108|      iPhone|      2022-02-05|\n",
      "|            16|        106|     MacBook|      2022-02-06|\n",
      "|            17|        107|      iPhone|      2022-02-07|\n",
      "|            18|        105|     MacBook|      2022-02-08|\n",
      "|            19|        108|     AirPods|      2022-02-09|\n",
      "|            20|        106|     AirPods|      2022-02-10|\n",
      "+--------------+-----------+------------+----------------+\n",
      "\n"
     ]
    }
   ],
   "source": [
    "from pyspark.sql import SparkSession\n",
    "\n",
    "spark = SparkSession.builder.appName(\"The_Project\").getOrCreate()\n",
    "\n",
    "input_df = spark.read.format(\"csv\").option(\"header\" , True).load(\"dbfs:/FileStore/tables/Transaction_Updated.csv\")\n",
    "\n",
    "input_df.show()"
   ]
  },
  {
   "cell_type": "code",
   "execution_count": 0,
   "metadata": {
    "application/vnd.databricks.v1+cell": {
     "cellMetadata": {
      "byteLimit": 2048000,
      "rowLimit": 10000
     },
     "inputWidgets": {},
     "nuid": "d4e23efe-4a6b-423c-9cf0-1700b7f5af06",
     "showTitle": false,
     "tableResultSettingsMap": {},
     "title": ""
    }
   },
   "outputs": [],
   "source": [
    "class FirstWorkFlow:\n",
    "    \"\"\"\n",
    "    etl pipeline to generate the data for all customers who have bought airpods just after buying iphone \n",
    "    \"\"\" \n",
    "    def __init__(self):\n",
    "        pass\n",
    "    def runner(self):\n",
    "        \n",
    "         # step 1 : Extract all required data from the different source \n",
    "\n",
    "        inputDfs =  AirpodsAfterIphoneExtractor().extract()\n",
    "\n",
    "        # step 2 : Implement the transformation logic \n",
    "        \n",
    "        firstTransformedDF = AirpodsAfterIphoneTransformer().transform(inputDfs)\n",
    "\n",
    "        # step 3 : load all the required data to different sink \n",
    "        spark.conf.set(\"spark.databricks.delta.formatCheck.enabled\", \"false\")\n",
    "\n",
    "        AirPodsAfterIphoneLoader(firstTransformedDF).sink()\n",
    "\n",
    "\n",
    "\n",
    "\n"
   ]
  },
  {
   "cell_type": "code",
   "execution_count": 0,
   "metadata": {
    "application/vnd.databricks.v1+cell": {
     "cellMetadata": {
      "byteLimit": 2048000,
      "rowLimit": 10000
     },
     "inputWidgets": {},
     "nuid": "e58aa1ac-8ec1-4083-ad6f-d6018f5e2fc3",
     "showTitle": false,
     "tableResultSettingsMap": {},
     "title": ""
    }
   },
   "outputs": [],
   "source": [
    "class SecondWorkFlow:\n",
    "    \"\"\"\n",
    "    etl pipeline to generate the data for all customers who have bought  iphone and airpods \n",
    "    \"\"\" \n",
    "    def __init__(self):\n",
    "        pass\n",
    "    def runner(self):\n",
    "        \n",
    "         # step 1 : Extract all required data from the different source \n",
    "\n",
    "        inputDfs =  AirpodsAfterIphoneExtractor().extract()\n",
    "         \n",
    "        # step 2 : Implement the transformation logic \n",
    "        \n",
    "        OnlyAirpodsAndIphoneDF = OnlyAirpodsAndIphone().transform(inputDfs)\n",
    "\n",
    "        # step 3 : load all the required data to different sink \n",
    "        spark.conf.set(\"spark.databricks.delta.formatCheck.enabled\", \"false\")\n",
    "\n",
    "        OnlyAirpodsAndIphoneLoader(OnlyAirpodsAndIphoneDF).sink()\n",
    "\n",
    "  "
   ]
  },
  {
   "cell_type": "code",
   "execution_count": 0,
   "metadata": {
    "application/vnd.databricks.v1+cell": {
     "cellMetadata": {
      "byteLimit": 2048000,
      "rowLimit": 10000
     },
     "inputWidgets": {},
     "nuid": "82ae969d-22d0-4792-b4d1-f29cf50b454c",
     "showTitle": false,
     "tableResultSettingsMap": {},
     "title": ""
    }
   },
   "outputs": [
    {
     "name": "stdout",
     "output_type": "stream",
     "text": [
      "+--------------+-----------+------------+----------------+\n",
      "|transaction_id|customer_id|product_name|transaction_date|\n",
      "+--------------+-----------+------------+----------------+\n",
      "|            11|        105|      iPhone|      2022-02-01|\n",
      "|            14|        105|     AirPods|      2022-02-04|\n",
      "|            18|        105|     MacBook|      2022-02-08|\n",
      "|            12|        106|      iPhone|      2022-02-02|\n",
      "|            16|        106|     MacBook|      2022-02-06|\n",
      "|            20|        106|     AirPods|      2022-02-10|\n",
      "|            13|        107|     AirPods|      2022-02-03|\n",
      "|            17|        107|      iPhone|      2022-02-07|\n",
      "|            15|        108|      iPhone|      2022-02-05|\n",
      "|            19|        108|     AirPods|      2022-02-09|\n",
      "+--------------+-----------+------------+----------------+\n",
      "\n",
      "+-----------+-------------+---------+--------+\n",
      "|customer_id|customer_name|join_date|location|\n",
      "+-----------+-------------+---------+--------+\n",
      "|        105|          Eva|     null|    Ohio|\n",
      "|        106|        Frank|     null|  Nevada|\n",
      "|        107|        Grace|     null|Colorado|\n",
      "|        108|        Henry|     null|    Utah|\n",
      "+-----------+-------------+---------+--------+\n",
      "\n",
      "transactionInputDf in transform \n",
      "Grouped DF\n",
      "+-----------+--------------------+\n",
      "|customer_id|            products|\n",
      "+-----------+--------------------+\n",
      "|        107|   [AirPods, iPhone]|\n",
      "|        108|   [AirPods, iPhone]|\n",
      "|        106|[AirPods, iPhone,...|\n",
      "|        105|[AirPods, iPhone,...|\n",
      "+-----------+--------------------+\n",
      "\n",
      "only Airpods and iphone \n",
      "+-----------+-----------------+\n",
      "|customer_id|         products|\n",
      "+-----------+-----------------+\n",
      "|        107|[AirPods, iPhone]|\n",
      "|        108|[AirPods, iPhone]|\n",
      "+-----------+-----------------+\n",
      "\n",
      "joined DF\n",
      "+-----------+-------------+--------+\n",
      "|customer_id|customer_name|location|\n",
      "+-----------+-------------+--------+\n",
      "|        107|        Grace|Colorado|\n",
      "|        108|        Henry|    Utah|\n",
      "+-----------+-------------+--------+\n",
      "\n"
     ]
    }
   ],
   "source": [
    "class WorkFlowRunner:\n",
    "    def __init__(self,name):\n",
    "        self.name = name \n",
    "    def runner(self):\n",
    "        if self.name == \"firstWorkFlow\":\n",
    "            return FirstWorkFlow().runner()\n",
    "        elif self.name ==\"secondWorkFlow\":\n",
    "            return SecondWorkFlow().runner()\n",
    "        else: \n",
    "            raise valueError (f\"Not Implemented for {self.name} \")\n",
    "name = \"secondWorkFlow\"  # default set to the secondWorkFlow\n",
    "workFlowRunner =  WorkFlowRunner(name).runner()       \n"
   ]
  }
 ],
 "metadata": {
  "application/vnd.databricks.v1+notebook": {
   "computePreferences": null,
   "dashboards": [],
   "environmentMetadata": {
    "base_environment": "",
    "client": "1"
   },
   "language": "python",
   "notebookMetadata": {
    "pythonIndentUnit": 4
   },
   "notebookName": "Apple_Analysis",
   "widgets": {}
  },
  "language_info": {
   "name": "python"
  }
 },
 "nbformat": 4,
 "nbformat_minor": 0
}
