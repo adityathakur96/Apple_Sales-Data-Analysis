{
 "cells": [
  {
   "cell_type": "code",
   "execution_count": 0,
   "metadata": {
    "application/vnd.databricks.v1+cell": {
     "cellMetadata": {
      "byteLimit": 2048000,
      "rowLimit": 10000
     },
     "inputWidgets": {},
     "nuid": "c1e38bbd-b611-4b08-b6a6-f9be5421211f",
     "showTitle": false,
     "tableResultSettingsMap": {},
     "title": ""
    }
   },
   "outputs": [],
   "source": [
    "%run \"./Loader_Factory\""
   ]
  },
  {
   "cell_type": "code",
   "execution_count": 0,
   "metadata": {
    "application/vnd.databricks.v1+cell": {
     "cellMetadata": {
      "byteLimit": 2048000,
      "rowLimit": 10000
     },
     "inputWidgets": {},
     "nuid": "8efbe960-3fb7-4441-b097-d55a9401996e",
     "showTitle": false,
     "tableResultSettingsMap": {},
     "title": ""
    }
   },
   "outputs": [],
   "source": [
    "class AbstractLoader:\n",
    "    def __init__(self, transformedDF):\n",
    "        self.transformedDF = transformedDF\n",
    "\n",
    "    def load(self):\n",
    "        pass\n",
    "\n",
    "\n",
    "class AirPodsAfterIphoneLoader(AbstractLoader):\n",
    "    def sink(self):\n",
    "        get_sink_source(\n",
    "            sink_type=\"dbfs\",\n",
    "            df=self.transformedDF,\n",
    "            path=\"dbfs:/FileStore/tables/apple_analysis/output/airpodsAfteriphone\",\n",
    "            method=\"overwrite\"\n",
    "        ).load_data_frame()\n",
    "\n",
    "class OnlyAirpodsAndIphoneLoader(AbstractLoader):\n",
    "    def sink(self):\n",
    "        params = {\n",
    "                \"partitionByColumns\" : [\"location\"]\n",
    "            }\n",
    "        get_sink_source(\n",
    "            sink_type=\"dbfs_with_partition\",\n",
    "            df=self.transformedDF,\n",
    "            path=\"dbfs:/FileStore/tables/apple_analysis/output/onlyairpodsandiphone\",\n",
    "            method=\"overwrite\",\n",
    "            params = params\n",
    "        ).load_data_frame()\n",
    "\n",
    "        get_sink_source(\n",
    "            sink_type=\"delta\",\n",
    "            df=self.transformedDF,\n",
    "            path=\"default.onlyAirpodsAndIphone\",\n",
    "            method=\"overwrite\"\n",
    "        ).load_data_frame()       \n"
   ]
  }
 ],
 "metadata": {
  "application/vnd.databricks.v1+notebook": {
   "computePreferences": null,
   "dashboards": [],
   "environmentMetadata": {
    "base_environment": "",
    "client": "1"
   },
   "language": "python",
   "notebookMetadata": {
    "pythonIndentUnit": 4
   },
   "notebookName": "Loader_Notebook",
   "widgets": {}
  }
 },
 "nbformat": 4,
 "nbformat_minor": 0
}
