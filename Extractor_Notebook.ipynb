{
 "cells": [
  {
   "cell_type": "code",
   "execution_count": 0,
   "metadata": {
    "application/vnd.databricks.v1+cell": {
     "cellMetadata": {
      "byteLimit": 2048000,
      "rowLimit": 10000
     },
     "inputWidgets": {},
     "nuid": "833f5f82-3eba-45aa-8813-6ef1f1e42dd1",
     "showTitle": false,
     "tableResultSettingsMap": {},
     "title": ""
    }
   },
   "outputs": [],
   "source": [
    "class Extractor:\n",
    "    # abstract class \n",
    "    def __init__(self):\n",
    "        pass\n",
    "    def extract(self):\n",
    "        pass\n",
    "\n",
    "class AirpodsAfterIphoneExtractor (Extractor):\n",
    "\n",
    "    def extract(self):\n",
    "        # Implement the steps for extracting or reading the data \n",
    "        transactionInputDf = get_data_source(\n",
    "            data_type=\"csv\",\n",
    "            file_path=\"dbfs:/FileStore/tables/Transaction_Updated.csv\"\n",
    "        ).get_data_frame()\n",
    "\n",
    "        transactionInputDf.orderBy(\"customer_id\",\"transaction_date\").show()\n",
    "        customerInputDf = get_data_source(\n",
    "            data_type=\"delta\",\n",
    "            file_path=\"default.customer_delta_table_persist\"\n",
    "        ).get_data_frame()\n",
    "        \n",
    "        customerInputDf.show()\n",
    "        \n",
    "        inputDfs ={\n",
    "            \"transactionInputDf\" : transactionInputDf,\n",
    "            \"customerInputDf\"    : customerInputDf\n",
    "        }\n",
    "\n",
    "        return inputDfs\n"
   ]
  }
 ],
 "metadata": {
  "application/vnd.databricks.v1+notebook": {
   "computePreferences": null,
   "dashboards": [],
   "environmentMetadata": {
    "base_environment": "",
    "client": "1"
   },
   "language": "python",
   "notebookMetadata": {
    "pythonIndentUnit": 4
   },
   "notebookName": "Extractor_Notebook",
   "widgets": {}
  }
 },
 "nbformat": 4,
 "nbformat_minor": 0
}
